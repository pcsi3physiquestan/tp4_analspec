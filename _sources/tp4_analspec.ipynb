{
 "cells": [
  {
   "cell_type": "markdown",
   "id": "american-agent",
   "metadata": {},
   "source": [
    "# Analyse spectrale\n",
    "\n",
    "Cette séquence est composée de 2 TPs de 4h :\n",
    "* le premier consiste en l'analyse spectrale d'un signal lumineux au moyen d'un dispositif permettant des mesures d'angles précises : le __goniomètre__. Il sera utilisé avec un prisme (utilisation de son caractère dispersif) puis avec un réseau (utilisation du phénomène d'interférences)\n",
    "* le second consiste en l'analyse spectrale d'un signal électrique. au moyen d'un analyseur de spectre qu'on construira soi-même.\n",
    "\n",
    "Les contraintes matériel imposent une rotation : 6 groupes travailleront en optique tandis que 6 groupes travailleront en électrocinétique. La séance suivante, les groupes échangeront de TP."
   ]
  }
 ],
 "metadata": {
  "jupytext": {
   "encoding": "# -*- coding: utf-8 -*-",
   "formats": "ipynb,md:myst",
   "split_at_heading": true,
   "text_representation": {
    "extension": ".md",
    "format_name": "myst",
    "format_version": 0.13,
    "jupytext_version": "1.10.3"
   }
  },
  "kernelspec": {
   "display_name": "Python 3",
   "language": "python",
   "name": "python3"
  },
  "language_info": {
   "codemirror_mode": {
    "name": "ipython",
    "version": 3
   },
   "file_extension": ".py",
   "mimetype": "text/x-python",
   "name": "python",
   "nbconvert_exporter": "python",
   "pygments_lexer": "ipython3",
   "version": "3.9.2"
  },
  "source_map": [
   15
  ]
 },
 "nbformat": 4,
 "nbformat_minor": 5
}