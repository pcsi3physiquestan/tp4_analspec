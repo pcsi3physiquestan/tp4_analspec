{
 "cells": [
  {
   "cell_type": "markdown",
   "id": "55c415ec",
   "metadata": {},
   "source": [
    "# Ondes\n",
    "\n",
    "Cette séquence est composée de 2 séquences :\n",
    "* un TP de 4h  sur le goniomètre à réseau illustrant l'utilisation des interférences pour faire de la spectroscopie\n",
    "* deux TPs de 2h qui seront réalisés durant la même séance. Pendant que 3 groupes travailleront sur la corde de Melde et les ondes stationnaires, les 3 autres groupes travailleront sur l'étude des spectres et les interférences par fente d'Young. Au bout de 2h, les deux groupes intervertiront les postes.\n",
    "\n",
    "La semaine suivante, les groupes inverseront les séquences."
   ]
  }
 ],
 "metadata": {
  "jupytext": {
   "encoding": "# -*- coding: utf-8 -*-",
   "formats": "ipynb,md:myst",
   "split_at_heading": true,
   "text_representation": {
    "extension": ".md",
    "format_name": "myst",
    "format_version": 0.13,
    "jupytext_version": "1.10.3"
   }
  },
  "kernelspec": {
   "display_name": "Python 3",
   "language": "python",
   "name": "python3"
  },
  "language_info": {
   "codemirror_mode": {
    "name": "ipython",
    "version": 3
   },
   "file_extension": ".py",
   "mimetype": "text/x-python",
   "name": "python",
   "nbconvert_exporter": "python",
   "pygments_lexer": "ipython3",
   "version": "3.7.12"
  },
  "source_map": [
   15
  ]
 },
 "nbformat": 4,
 "nbformat_minor": 5
}