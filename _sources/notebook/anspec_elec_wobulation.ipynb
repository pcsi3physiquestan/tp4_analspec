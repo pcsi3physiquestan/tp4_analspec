{
 "cells": [
  {
   "cell_type": "markdown",
   "id": "opening-marble",
   "metadata": {},
   "source": [
    "(wobulation)=\n",
    "# Wobulation en pratique\n",
    "\n",
    "Le GBF TG500 possède une fonction wobulation qui permet de faire varier la fréquence du signal délivré. Les caractéristiques du réglages sont les suivantes:\n",
    "\n",
    "* activation du balayage par le bouton `SWEEP IN/OUT` enfoncé.\n",
    "* choix d'un balayage linéaire\n",
    "* fréquence minimale $f_{\\min}$ (maintien du bouton `START` + réglage de fréquence (_molette_))\n",
    "* fréquence maximale $f_{\\max}$ (maintien du bouton `STOP` + réglage de la molette `STOP`)\n",
    "* temps mis pour aller d'une fréquence à l'autre $\\Delta t$ (réglage `RATE`)\n",
    "\n",
    "````{important}\n",
    "La durée $\\Delta t$ n'est pas affichée. Pour la régler. Il faut sortir le signal de la connectique BNC `SWEEP IN/OUT`. Il délivre une tension affine en la fréquence instantanée du signal :\n",
    "\n",
    "$$u(t) = \\frac{f_{\\max}-f_{\\min}}{\\Delta t} t+f_{\\min} $$\n",
    "\n",
    "En pratique, $u$ vaut $3V$ pour $f_{max}$ et $0V$  pour $f_{min}$. \n",
    "\n",
    "Il faut donc : \n",
    "* brancher cette voie sur l'oscilloscope\n",
    "* régler le `Rate` pour que la pente dure bien le temps voulu.\n",
    "\n",
    "__Cette voit sera aussi utilisée pour la synchronisation de l'oscilloscope car vous serez obligé à ce stade de passer en synchronisation manuelle.__\n",
    "\n",
    "````"
   ]
  }
 ],
 "metadata": {
  "jupytext": {
   "encoding": "# -*- coding: utf-8 -*-",
   "formats": "ipynb,md:myst",
   "split_at_heading": true,
   "text_representation": {
    "extension": ".md",
    "format_name": "myst",
    "format_version": 0.13,
    "jupytext_version": "1.10.3"
   }
  },
  "kernelspec": {
   "display_name": "Python 3",
   "language": "python",
   "name": "python3"
  },
  "language_info": {
   "codemirror_mode": {
    "name": "ipython",
    "version": 3
   },
   "file_extension": ".py",
   "mimetype": "text/x-python",
   "name": "python",
   "nbconvert_exporter": "python",
   "pygments_lexer": "ipython3",
   "version": "3.9.2"
  },
  "source_map": [
   15
  ]
 },
 "nbformat": 4,
 "nbformat_minor": 5
}