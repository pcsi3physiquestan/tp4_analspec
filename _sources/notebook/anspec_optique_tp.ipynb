{
 "cells": [
  {
   "cell_type": "markdown",
   "id": "spread-international",
   "metadata": {},
   "source": [
    "# Réalisation pratique\n",
    "\n",
    "Un goniomètre est un appareil qui sert à effectuer des mesures d'angles (de gônia ``angle'' et metron ``mesure, évaluation''). Il possède une plateforme pouvant tourner autour d'un axe et sur laquelle on placera un dispositif permettant de disperser la lumière: en 1ère année, un prisme. Un collimateur permet d'éclairer le prisme par un faisceau de lumière parallèle, le faisceau émergent pouvant être visé par une lunette autocollimatrice réglée à l'infini. L'oculaire de la lunette est muni d'un réticule pour réaliser le pointage du faisceau émergent. Un système de graduation sous la lunette permet une lecture de la position angulaire de la lunette.\n",
    "\n",
    "```{figure} ./images/AnalyseSpec_Goniometre_Schema.jpg\n",
    ":name: goniometre\n",
    ":align: center\n",
    "Goniomètre\n",
    "```\n",
    "## Réglage du goniomètre (30 min)\n",
    "Un goniomètre nécessite deux types de réglages :\n",
    "* des réglages optiques : réglage de la lunette (par auto-collimation) et du collimateur (grâce à la lunette).\n",
    "* des réglages géométriques : orientation de la plateforme et de la lunette pour que les rayons ne dévient pas trop d'un plan \"horizontal\" (= perpendiculaire à l'axe de rotation de la plateforme).\n",
    "\n",
    "```{warning}\n",
    "Ne pas passer trop de temps sur ces réglages, le but est surtout de manipuler.\n",
    "```\n",
    "\n",
    "### Réglage de la lunette autocollimatrice\n",
    "\n",
    "Une lunette autocollimatrice a pour rôle de permettre d'observer un objet à l'infini, grossi (rappel: l'étendue transversale d'un objet ou d'une image à l'infini est caractérisée par un angle). Comme l'observation se fait à l'oeil, la dernière image formée par la lunette doit être à l'infini elle aussi. Il s'agit donc d'un système afocal. Elle est constituée d'un objectif, d'un réticule et d'un oculaire (voir schéma ci-dessous). La distance réticule-oculaire est réglable, ainsi que la distance objectif-{réticule+oculaire} (bagues de réglage). Une lampe intégrée (source 6V) et une lame semi-réfléchissante qui peut être basculée à $45^{\\circ}$ permettent, si besoin, d'éclairer de côté.\n",
    "\n",
    "```{figure} ./images/AnalyseSpec_Lunette_Reglages.jpg\n",
    ":name: lunette_auto\n",
    ":align: center\n",
    "Lunette auto-collimatrice.\n",
    "```\n",
    "\n",
    "````{admonition} Manipulation préliminaire\n",
    ":class: tip\n",
    "1. Réglage de la distance oculaire-réticule : Observer à travers l'oculaire et régler le tirage de l'oculaire jusqu'à observer une image nette R' du réticule R, sans accommodation.\n",
    "2. Réglage de la distance objectif-{réticule-oculaire}: mise au point à l'infini : Le principe consiste à placer le foyer image de l'objectif au niveau du réticule. On utilise pour cela la méthode d'autocollimation, d'où le nom de lunette autocollimatrice.\n",
    "    1. Positionner la lame semi-réfléchissante pour que l'éclairage provienne de l'intérieur de la lunette.\n",
    "    2. Placer un miroir plan (MP) juste derrière l'objectif, perpendiculairement à l'axe optique. La lumière de la lampe est réfléchie sur la lame semi-réfléchissante, vers le MP, où elle se réfléchit et traverse la lame jusqu'à l'oculaire. On observe alors dans la lunette un disque lumineux dû à la lumière réfléchie par le MP (faire varier légèrement l'orientation du miroir ou de la lunette si besoin).\n",
    "    3. Régler le tirage de l'objectif jusqu'à ce que le réticule et son image par le MP soient nettes (elles sont alors confondues). _Attention à l'erreur de parallaxe._\n",
    "````\n",
    "\n",
    "### Réglage du collimateur\n",
    "Le rôle d'un collimateur est de former un objet à l'infini. Il est constitué d'un objectif et d'un objet (qui dans ce TP une fente F de largeur et d'orientation réglables), éclairé par une source placée en amont. Régler le collimateur consiste à ajuster la distance objet-objectif pour amener l'objet (fente ici) dans le plan focal objet de l'objectif. On obtiendra alors une image nette de la fente à l'infini.\n",
    "\n",
    "````{admonition} Manipulation préliminaire\n",
    ":class: tip\n",
    "1. éclairer la fente du collimateur avec la lampe spectrale au mercure. Disposez la lampe correctement vis à vis de la fente de manière à disposer d'un éclairement maximal en sortie du collimateur.\n",
    "2. Observer l'image de la fente-source à travers la lunette auto-collimatrice réglée et modifier la distance fente- objectif du collimateur pour que l'image vue à travers la lunette soit nette.\n",
    "3. Ajuster la largeur de la fente et son orientation pour que son image dans la lunette soit fine et droite. \n",
    "````\n",
    "\n",
    "### Direction du faisceau incident\n",
    "Nous allons déterminer la direction du faisceau incident (non dévié par le prisme) pour se donner une origine des graduations angulaires. Cette origine correspond à la direction de propagation du faisceau sur le prisme.\n",
    "\n",
    "````{admonition} Manipulation préliminaire\n",
    ":class: tip\n",
    "1. En déplaçant la lunette, venir viser la fente source avec la lunette autocollimatrice, c'est-à-dire que l'image de la fente doit se situer à la croisée du réticule de la lunette.\n",
    "2. Relever alors la position de la lunette, repérée par un angle sur la graduation située sous la lunette autocollimatrice, angle que l'on notera $\\theta_0$.\n",
    "````\n",
    "\n",
    "### Orientation de la plateforme et de la lunette\n",
    "Ces réglages n'étant pas au programme, appeler le professeur pour qu'il les réalise.\n",
    "\n",
    "## Goniomètre à prisme\n",
    "\n",
    "### Mesure de l'angle A\n",
    "````{admonition} Manipulation\n",
    ":class: tip\n",
    "1. Expliquer comment peut-on utiliser le d'autocollimation de la lunette (éclairage interne) pour déterminer l'angle correspond à la normale d'une face du prisme.\n",
    "2. Proposez une méthode, utilisant la détermination de l'orientation des faces, pour mesurer l'angle A au sommet du prisme.\n",
    "3. Réaliser cette manipulation et utiliser la cellule ci-dessous pour obtenir l'incertitude sur $A$ __par propagation des variances.__ à partit des mesurandes directs et de leurs incertitudes.\n",
    "````"
   ]
  },
  {
   "cell_type": "code",
   "execution_count": 1,
   "id": "impressive-ethnic",
   "metadata": {},
   "outputs": [],
   "source": [
    "\"\"\"Ne pas oublier les bibliothèques scientifiques\"\"\"\n",
    "\n",
    "\n",
    "A = 0  # Stocker la valeur de A dans cette variables\n",
    "uA = 0  # Stocker l'incertitude sur A dans cette variables"
   ]
  },
  {
   "cell_type": "markdown",
   "id": "special-output",
   "metadata": {},
   "source": [
    "### Observation qualitative du minimum de déviation\n",
    "Le goniomètre est maintenant réglé, l'angle $\\theta_0$ mesuré et le prisme posé correctement.\n",
    "\n",
    "````{admonition} Manipulation : Variation de la déviation en fonction de l'angle d'incidence\n",
    ":class: tip\n",
    "On ne s'intéresse dans ce paragraphe qu'à la raie verte du mercure.\n",
    "\n",
    "```{figure} ./images/AnalyseSpec_Prisme_Deviation.jpg\n",
    ":name: deviation\n",
    ":align: center\n",
    "```\n",
    "1. En vous inspirant de la [figure](deviation), proposer un protocole permettant de mesurer l'angle de déviation D pour un angle d'incidence donné (angle formé entre la direction du faisceau incident et celle du faisceau émergent).\n",
    "2. Choisir un angle d'incidence permettant d'observer les rayons sortant par la lunette et faire tourner la plateforme pour observer le minimum de déviation.\n",
    "2. Commencez par mesurer la déviation minimale $D_m$ observée pour la raie verte. Expliquer quel est l'intérêt de travailer au minimum de déviation.\n",
    "````\n",
    "\n",
    "  \n",
    "### Minimum de déviation et longueur d'onde\n",
    "Vous venez d'observer l'existence d'un minimum de déviation $D_m$, unique pour une onde monochromatique. Nous allons maintenant déterminer le minimum de déviation pour chaque longueur d'onde du mercure. Cette étude servira d'étalonnage pour mesurer la longueur d'onde du doublet du sodium.\n",
    "\n",
    "On donne les longueurs d'onde des raies du mercure :\n",
    "\n",
    "|Intensité | Couleur | Longueur d'onde (nm) |\n",
    "|:-|-:-|-:|\n",
    "|intense | Violet 2 | 404,7 |\n",
    "|p \\^ale | Violet 1 | 407,8 |\n",
    "|intense | bleu violet | 435,8 |\n",
    "|p\\^ale | vert bleu | 491,6 |\n",
    "|très intense | vert | 546,1 |\n",
    "|intense | jaune | 577,0 et 579,1|\n",
    "\n",
    "On rappelle qu'on peut relier l'angle de déviation minimal à l'indice de réfraction du prisme :\n",
    "\n",
    "$$\n",
    "n = \\frac{\\sin(\\frac{D_m+A}{2})}{\\sin(\\frac{A}{2})}\n",
    "$$\n",
    "\n",
    "De plus, le verre est un milieu dispersif qui suit normalement la loi de Cauchy reliant l'indice de réfraction à la longueur d'onde :\n",
    "\n",
    "$$\n",
    "n(\\lambda)=a+\\frac{b}{\\lambda^2}\n",
    "$$\n",
    "\n",
    "````{admonition} Manipulation : Etalonnage\n",
    ":class: tip\n",
    "1. Déterminez la déviation minimale $D_m(\\lambda)$ pour chacune des raies du spectre visible du mercure ainsi que les incertitudes sur $D_m$ (pour chaque source non négligeable).\n",
    "2. Utiliser la cellule ci-dessous pour déterminer les incertitudes sur les Dm, les indices de réfraction $n$ associés et leur incertitude. On utilisera une méthode de Monte-Carlo.\n",
    "3. Obtenir les coefficient $a$ et $b$ du modèle de Cauchy pour le prisme par régression linéaire. On pensera à vérifier avant et après régression la cohérence du modèle et à réaliser les représentations graphiques nécessaires.\n",
    "````\n",
    "__Pensez à stocker les vecteurs ou tableaux des N simulations pour utilisation ultérieur.__"
   ]
  },
  {
   "cell_type": "code",
   "execution_count": 2,
   "id": "maritime-yellow",
   "metadata": {},
   "outputs": [
    {
     "data": {
      "text/plain": [
       "'Les bibliothèqes scientifiques ont normalement déjà été importées'"
      ]
     },
     "execution_count": 2,
     "metadata": {},
     "output_type": "execute_result"
    }
   ],
   "source": [
    "\"\"\"Les bibliothèqes scientifiques ont normalement déjà été importées\"\"\"\n"
   ]
  },
  {
   "cell_type": "markdown",
   "id": "numerical-listing",
   "metadata": {},
   "source": [
    "### Application à la spectrométrie\n",
    "La spectrométrie consiste à déterminer le spectre d'un signal lumineux. On va déterminer la longueur d'onde du doublet du sodium attendu théoriquement aux __longueurs d'onde 589,0nm et 589,6nm__.\n",
    "\n",
    "````{admonition} Manipulation\n",
    ":class: tip\n",
    "1. Remplacez la lampe au mercure par une lampe au sodium.\n",
    "2. Déterminez expérimentalement la(les) longueur(s) d'onde du spectre de cette lampe, avec leurs incertitudes par simulation de Monte-Carlo. Préciser le protocole mis en place.\n",
    "3. Comparez à la valeur tabulée\n",
    "4. Peut-on distinguer le deux raies ou doit-on se contenter de la longueur d'onde moyenne du doublet?\n",
    "````"
   ]
  },
  {
   "cell_type": "code",
   "execution_count": 3,
   "id": "early-closer",
   "metadata": {},
   "outputs": [
    {
     "data": {
      "text/plain": [
       "'Pensez à réutiliser les variables précédentes.'"
      ]
     },
     "execution_count": 3,
     "metadata": {},
     "output_type": "execute_result"
    }
   ],
   "source": [
    "\"\"\"Pensez à réutiliser les variables précédentes.\"\"\"\n"
   ]
  },
  {
   "cell_type": "markdown",
   "id": "improving-essex",
   "metadata": {},
   "source": [
    "## Augmentation de la résolution: utilisation d'un réseau\n",
    "\n",
    "Remplacer le prisme par le réseau à disposition (_en toute rigueur, on devrait recommencer les réglages d'orientation mais on ne le fera pas ici par manque de temps, vérifier simplement que vous observer des raies en sortie_).\n",
    "\n",
    "Comme précédemment, la mesure est plus précise au minimum de déviation mais pour gagner du temps sur l'exploitation. On va se placer en incidence normale $i = 0$.\n",
    "\n",
    "````{admonition} Manipulation\n",
    ":class: tip\n",
    "1. Sachant que pour $p=0$, $i=\\theta$ et que le réseau est partiellement réfléchissant. Proposer une méthode utilisant l'éclairage interne de la lunette pour bien placer le réseau tel qu'on soit en incidence normale puis réaliser cette manipulation.\n",
    "2. Proposer puis réaliser un protocole permettant permettant de remonter aux valeurs des deux longueurs d'onde du doublet.\n",
    "````"
   ]
  }
 ],
 "metadata": {
  "jupytext": {
   "encoding": "# -*- coding: utf-8 -*-",
   "formats": "ipynb,md:myst",
   "split_at_heading": true,
   "text_representation": {
    "extension": ".md",
    "format_name": "myst",
    "format_version": 0.13,
    "jupytext_version": "1.10.3"
   }
  },
  "kernelspec": {
   "display_name": "Python 3",
   "language": "python",
   "name": "python3"
  },
  "language_info": {
   "codemirror_mode": {
    "name": "ipython",
    "version": 3
   },
   "file_extension": ".py",
   "mimetype": "text/x-python",
   "name": "python",
   "nbconvert_exporter": "python",
   "pygments_lexer": "ipython3",
   "version": "3.9.2"
  },
  "source_map": [
   15,
   84,
   90,
   142,
   145,
   158,
   161
  ]
 },
 "nbformat": 4,
 "nbformat_minor": 5
}