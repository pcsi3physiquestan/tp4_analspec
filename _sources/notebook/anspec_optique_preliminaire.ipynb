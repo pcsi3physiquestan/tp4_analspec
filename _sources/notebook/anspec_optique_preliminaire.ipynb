{
 "cells": [
  {
   "cell_type": "markdown",
   "id": "according-scene",
   "metadata": {},
   "source": [
    "# Etude préliminaire\n",
    "\n",
    "## Goniomètre à prisme\n",
    "L'étude préliminaire a déjà été réalisée dans le cours d'optique. On reprendra l'exercice en s'attardant notamment sur les points suivants :\n",
    "* trajets qualitatif des rayons\n",
    "* cas d'existence d'une réflexion totale\n",
    "* existence d'un minimum de déviation et relation entre ce minimum et la longueur d'onde.\n",
    "\n",
    "__Il est aussi vivement conseillé de reprendre les instruments d'optique pour se rappeler le principe de fonctionnement et de réglage d'une lunette et d'un collimateur.__\n",
    "\n",
    "## Goniomètre à réseau\n",
    "La théorie sous-jacente sera vue dans le cours sur les ondes. On retiendra déjà, grâce au cours de terminal que :\n",
    "* le réseau est constité d'un grande nombre de fentes (comme les fentes d'Young). Il est caractérisé par N, le nombre de fente par unité de longueur. Comme un grand nombre de rayons sortent de ces fentes, ils vont interférer.\n",
    "* Il existe dans conditions sur l'angle en sortie pour observer des interférences constructives :\n",
    "\n",
    "$$\\sin \\theta = \\sin i + p N \\lambda$$\n",
    "\n",
    "où $i$ est l'angle du faisceau incident sur le réseau, $\\theta$ l'angle du faisceau sortant donnant lieu à des interférences constructives, $\\lambda$ la longueur du faisceau et $p$ un nombre entier relatif appelé __ordre d'interférence.__\n",
    "\n",
    "Pour chaque ordre $p=-2, p=-1, p=0, p=1, p=2...$ on observera des interférences constructives : une raie lumineuse de la couleur correspondant à $\\lambda$. Comme $\\theta$ dépend de $\\lambda$ on peut distinguer plusieurs composantes spectrales d'un même signal lumineux."
   ]
  }
 ],
 "metadata": {
  "jupytext": {
   "encoding": "# -*- coding: utf-8 -*-",
   "formats": "ipynb,md:myst",
   "split_at_heading": true,
   "text_representation": {
    "extension": ".md",
    "format_name": "myst",
    "format_version": 0.13,
    "jupytext_version": "1.10.3"
   }
  },
  "kernelspec": {
   "display_name": "Python 3",
   "language": "python",
   "name": "python3"
  },
  "language_info": {
   "codemirror_mode": {
    "name": "ipython",
    "version": 3
   },
   "file_extension": ".py",
   "mimetype": "text/x-python",
   "name": "python",
   "nbconvert_exporter": "python",
   "pygments_lexer": "ipython3",
   "version": "3.9.2"
  },
  "source_map": [
   15
  ]
 },
 "nbformat": 4,
 "nbformat_minor": 5
}